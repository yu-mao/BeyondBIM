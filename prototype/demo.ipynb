{
 "cells": [
  {
   "cell_type": "code",
   "execution_count": 2,
   "metadata": {},
   "outputs": [],
   "source": [
    "import tkinter as tk\n",
    "from tkinter import ttk\n",
    "from tkinter import filedialog\n",
    "import numpy as np\n",
    "import matplotlib as mpl\n",
    "from IPython import display\n",
    "from PIL import ImageTk,Image \n",
    "%matplotlib inline"
   ]
  },
  {
   "cell_type": "markdown",
   "metadata": {},
   "source": [
    "## Generate dummy data"
   ]
  },
  {
   "cell_type": "code",
   "execution_count": null,
   "metadata": {},
   "outputs": [],
   "source": []
  },
  {
   "cell_type": "markdown",
   "metadata": {},
   "source": [
    "## Recognise texts from 2D floor plan images"
   ]
  },
  {
   "cell_type": "code",
   "execution_count": 3,
   "metadata": {},
   "outputs": [],
   "source": [
    "class TextRecognition():\n",
    "    def __init__(self):\n",
    "        pass\n",
    "    \n",
    "    def readFloorPlan(self):\n",
    "        pass\n",
    "    \n",
    "    def getTexts(self):\n",
    "        pass"
   ]
  },
  {
   "cell_type": "code",
   "execution_count": 4,
   "metadata": {},
   "outputs": [],
   "source": [
    "class DemoGUI(tk.Frame):\n",
    "    def __init__(self, parent=None):\n",
    "        tk.Frame.__init__(self, parent)\n",
    "        self.pack()\n",
    "        self.layout()\n",
    "        textRecognition = TextRecognition()\n",
    "    \n",
    "    def layout(self):\n",
    "        # interactable definitions\n",
    "        self.frameUploadDrawings = tk.Frame(self)\n",
    "        self.frameExtractTexts = tk.Frame(self)\n",
    "        self.btnUploadFile = tk.Button(self.frameUploadDrawings, text=\"Upload File\", command=self.uploadAction)\n",
    "        self.btnRecogniseTexts = tk.Button(self.frameExtractTexts, text=\"Recognise Text\", command=self.recogniseTexts)\n",
    "#         TODO: fix label size to display uploaded file thumbnail\n",
    "        self.labelFileThumbnail = tk.Label(self.frameUploadDrawings, width=30, height=30, relief=tk.GROOVE)\n",
    "\n",
    "        # interactable layout\n",
    "        self.frameUploadDrawings.grid(row=0, column=0, sticky=tk.NSEW, padx=10, pady=10)\n",
    "        self.frameExtractTexts.grid(row=0, column=1, sticky=tk.NSEW, padx=10, pady=10)\n",
    "        self.btnUploadFile.grid(row=0, column=0, sticky=tk.NSEW)\n",
    "        self.labelFileThumbnail.grid(row=1, column=0, sticky=tk.NSEW)\n",
    "        self.btnRecogniseTexts.grid(row=0, column=0, sticky=tk.NSEW)\n",
    "\n",
    "    def uploadAction(self, event=None):\n",
    "        filepath = tk.filedialog.askopenfilename()\n",
    "        image = Image.open(filepath).resize((30, 30), Image.ANTIALIAS)\n",
    "        photoImage = ImageTk.PhotoImage(image)\n",
    "        self.labelFileThumbnail.configure(image=photoImage)\n",
    "        self.labelFileThumbnail.image = photoImage\n",
    "\n",
    "    def recogniseTexts(event=None):\n",
    "        textRecognition.getTexts()\n",
    "        \n"
   ]
  },
  {
   "cell_type": "code",
   "execution_count": 5,
   "metadata": {},
   "outputs": [],
   "source": [
    "if __name__ == \"__main__\":\n",
    "    root = tk.Tk()\n",
    "    root.title(\"Beyond BIM Demo\")\n",
    "    DemoGUI(root).mainloop()\n",
    "    root.after(5, lambda: root.focus_force())"
   ]
  },
  {
   "cell_type": "code",
   "execution_count": null,
   "metadata": {},
   "outputs": [],
   "source": []
  }
 ],
 "metadata": {
  "kernelspec": {
   "display_name": "Python 3",
   "language": "python",
   "name": "python3"
  },
  "language_info": {
   "codemirror_mode": {
    "name": "ipython",
    "version": 3
   },
   "file_extension": ".py",
   "mimetype": "text/x-python",
   "name": "python",
   "nbconvert_exporter": "python",
   "pygments_lexer": "ipython3",
   "version": "3.8.3"
  }
 },
 "nbformat": 4,
 "nbformat_minor": 4
}
